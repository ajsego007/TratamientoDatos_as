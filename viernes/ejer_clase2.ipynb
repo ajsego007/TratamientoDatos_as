{
 "cells": [
  {
   "cell_type": "markdown",
   "metadata": {},
   "source": [
    "## Pandas"
   ]
  },
  {
   "cell_type": "code",
   "execution_count": 2,
   "metadata": {
    "execution": {
     "iopub.execute_input": "2025-03-22T14:40:33.570741Z",
     "iopub.status.busy": "2025-03-22T14:40:33.570359Z",
     "iopub.status.idle": "2025-03-22T14:40:33.676534Z",
     "shell.execute_reply": "2025-03-22T14:40:33.675604Z",
     "shell.execute_reply.started": "2025-03-22T14:40:33.570707Z"
    },
    "trusted": true
   },
   "outputs": [
    {
     "name": "stdout",
     "output_type": "stream",
     "text": [
      "<class 'pandas.core.frame.DataFrame'>\n",
      "RangeIndex: 7845 entries, 0 to 7844\n",
      "Data columns (total 17 columns):\n",
      " #   Column                Non-Null Count  Dtype  \n",
      "---  ------                --------------  -----  \n",
      " 0   name                  7845 non-null   object \n",
      " 1   tcp_packets           7845 non-null   int64  \n",
      " 2   dist_port_tcp         7845 non-null   int64  \n",
      " 3   external_ips          7845 non-null   int64  \n",
      " 4   vulume_bytes          7845 non-null   int64  \n",
      " 5   udp_packets           7845 non-null   int64  \n",
      " 6   tcp_urg_packet        7845 non-null   int64  \n",
      " 7   source_app_packets    7845 non-null   int64  \n",
      " 8   remote_app_packets    7845 non-null   int64  \n",
      " 9   source_app_bytes      7845 non-null   int64  \n",
      " 10  remote_app_bytes      7845 non-null   int64  \n",
      " 11  duracion              0 non-null      float64\n",
      " 12  avg_local_pkt_rate    0 non-null      float64\n",
      " 13  avg_remote_pkt_rate   0 non-null      float64\n",
      " 14  source_app_packets.1  7845 non-null   int64  \n",
      " 15  dns_query_times       7845 non-null   int64  \n",
      " 16  type                  7845 non-null   object \n",
      "dtypes: float64(3), int64(12), object(2)\n",
      "memory usage: 1.0+ MB\n"
     ]
    }
   ],
   "source": [
    "import pandas as pd # type: ignore\n",
    "# Cargar el dataset (supongamos que está en formato CSV)\n",
    "df_pandas= pd.read_csv(\"android_traffic.csv\" ,   sep=\";\")\n",
    "\n",
    "# Muestra la información del dataset\n",
    "df_pandas.info()\n"
   ]
  },
  {
   "cell_type": "code",
   "execution_count": 3,
   "metadata": {
    "execution": {
     "iopub.execute_input": "2025-03-22T14:41:02.174992Z",
     "iopub.status.busy": "2025-03-22T14:41:02.174619Z",
     "iopub.status.idle": "2025-03-22T14:41:02.185249Z",
     "shell.execute_reply": "2025-03-22T14:41:02.184189Z",
     "shell.execute_reply.started": "2025-03-22T14:41:02.174964Z"
    },
    "trusted": true
   },
   "outputs": [
    {
     "name": "stdout",
     "output_type": "stream",
     "text": [
      "(7845, 17)\n",
      "Tamaño del dataset: 7845 filas y 17 columnas\n"
     ]
    }
   ],
   "source": [
    "# Mostrar el tamaño del dataset\n",
    "print(df_pandas.shape)\n",
    "print(f\"Tamaño del dataset: {df_pandas.shape[0]} filas y {df_pandas.shape[1]} columnas\")"
   ]
  },
  {
   "cell_type": "code",
   "execution_count": 4,
   "metadata": {},
   "outputs": [
    {
     "name": "stdout",
     "output_type": "stream",
     "text": [
      "Tamaño en memoria: 1.76 MB\n"
     ]
    }
   ],
   "source": [
    "# Convertir a unidades más legibles\n",
    "def convertir_tamanio(bytes):\n",
    "    if bytes < 1024:\n",
    "        return f\"{bytes} bytes\"\n",
    "    elif bytes < 1024**2:\n",
    "        return f\"{bytes/1024:.2f} KB\"\n",
    "    elif bytes < 1024**3:\n",
    "        return f\"{bytes/(1024**2):.2f} MB\"\n",
    "    else:\n",
    "        return f\"{bytes/(1024**3):.2f} GB\"\n",
    "# Tamaño en bytes del DataFrame en memoria\n",
    "tamanio_memoria = df_pandas.memory_usage(deep=True).sum()\n",
    "\n",
    "print(f\"Tamaño en memoria: {convertir_tamanio(tamanio_memoria)}\")"
   ]
  },
  {
   "cell_type": "code",
   "execution_count": 5,
   "metadata": {},
   "outputs": [
    {
     "name": "stdout",
     "output_type": "stream",
     "text": [
      "Tamaño del archivo: 504.78 KB\n"
     ]
    }
   ],
   "source": [
    "from pathlib import Path\n",
    "\n",
    "tamanio = Path('android_traffic.csv').stat().st_size\n",
    "print(f\"Tamaño del archivo: {convertir_tamanio(tamanio)}\")"
   ]
  },
  {
   "cell_type": "code",
   "execution_count": 6,
   "metadata": {},
   "outputs": [
    {
     "name": "stdout",
     "output_type": "stream",
     "text": [
      "name                       0\n",
      "tcp_packets                0\n",
      "dist_port_tcp              0\n",
      "external_ips               0\n",
      "vulume_bytes               0\n",
      "udp_packets                0\n",
      "tcp_urg_packet             0\n",
      "source_app_packets         0\n",
      "remote_app_packets         0\n",
      "source_app_bytes           0\n",
      "remote_app_bytes           0\n",
      "duracion                7845\n",
      "avg_local_pkt_rate      7845\n",
      "avg_remote_pkt_rate     7845\n",
      "source_app_packets.1       0\n",
      "dns_query_times            0\n",
      "type                       0\n",
      "dtype: int64\n"
     ]
    }
   ],
   "source": [
    "# Ver cantidad de valores faltantes por columna\n",
    "print(df_pandas.isnull().sum())"
   ]
  },
  {
   "cell_type": "code",
   "execution_count": 9,
   "metadata": {},
   "outputs": [
    {
     "data": {
      "image/png": "[encoded data removed]",
      "text/plain": [
       "<Figure size 640x480 with 1 Axes>"
      ]
     },
     "metadata": {},
     "output_type": "display_data"
    }
   ],
   "source": [
    "import matplotlib.pyplot as plt # type: ignore\n",
    "\n",
    "df_pandas.isnull().sum().plot(kind='bar')\n",
    "plt.title('Valores faltantes por columna')\n",
    "plt.ylabel('Cantidad')\n",
    "plt.show()"
   ]
  },
  {
   "cell_type": "code",
   "execution_count": 10,
   "metadata": {},
   "outputs": [
    {
     "name": "stdout",
     "output_type": "stream",
     "text": [
      "\n",
      "Columna: name\n",
      "name\n",
      "Reading             774\n",
      "Plankton            483\n",
      "DroidKungFu         427\n",
      "AntiVirus           396\n",
      "NewsAndMagazines    360\n",
      "                   ... \n",
      "Spy.ImLog             1\n",
      "Stealthcell           1\n",
      "Stealer               1\n",
      "Updtbot               1\n",
      "YcChar                1\n",
      "Name: count, Length: 114, dtype: int64\n",
      "\n",
      "Columna: type\n",
      "type\n",
      "benign       4704\n",
      "malicious    3141\n",
      "Name: count, dtype: int64\n"
     ]
    }
   ],
   "source": [
    "# Para columnas categóricas/texto\n",
    "for col in df_pandas.select_dtypes(include=['object']).columns:\n",
    "    print(f\"\\nColumna: {col}\")\n",
    "    print(df_pandas[col].value_counts(dropna=False))"
   ]
  },
  {
   "cell_type": "code",
   "execution_count": 11,
   "metadata": {},
   "outputs": [
    {
     "name": "stdout",
     "output_type": "stream",
     "text": [
      "Número de filas duplicadas: 1785\n"
     ]
    }
   ],
   "source": [
    "print(f\"Número de filas duplicadas: {df_pandas.duplicated().sum()}\")"
   ]
  }
 ],
 "metadata": {
  "kaggle": {
   "accelerator": "none",
   "dataSources": [
    {
     "datasetId": 344265,
     "sourceId": 680743,
     "sourceType": "datasetVersion"
    }
   ],
   "dockerImageVersionId": 30918,
   "isGpuEnabled": false,
   "isInternetEnabled": false,
   "language": "python",
   "sourceType": "notebook"
  },
  "kernelspec": {
   "display_name": "Python 3",
   "language": "python",
   "name": "python3"
  },
  "language_info": {
   "codemirror_mode": {
    "name": "ipython",
    "version": 3
   },
   "file_extension": ".py",
   "mimetype": "text/x-python",
   "name": "python",
   "nbconvert_exporter": "python",
   "pygments_lexer": "ipython3",
   "version": "3.13.2"
  }
 },
 "nbformat": 4,
 "nbformat_minor": 4
}
